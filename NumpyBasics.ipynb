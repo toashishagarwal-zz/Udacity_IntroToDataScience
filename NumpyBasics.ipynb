{
 "cells": [
  {
   "cell_type": "code",
   "execution_count": 2,
   "metadata": {
    "collapsed": true
   },
   "outputs": [],
   "source": [
    "import numpy as np"
   ]
  },
  {
   "cell_type": "code",
   "execution_count": 3,
   "metadata": {
    "collapsed": false
   },
   "outputs": [],
   "source": [
    "numbers = [1,2,3,4,5,6,7,8,9]"
   ]
  },
  {
   "cell_type": "code",
   "execution_count": 4,
   "metadata": {
    "collapsed": false
   },
   "outputs": [
    {
     "data": {
      "text/plain": [
       "5.0"
      ]
     },
     "execution_count": 4,
     "metadata": {},
     "output_type": "execute_result"
    }
   ],
   "source": [
    "np.mean(numbers)"
   ]
  },
  {
   "cell_type": "code",
   "execution_count": 5,
   "metadata": {
    "collapsed": false
   },
   "outputs": [
    {
     "data": {
      "text/plain": [
       "5.0"
      ]
     },
     "execution_count": 5,
     "metadata": {},
     "output_type": "execute_result"
    }
   ],
   "source": [
    "np.median(numbers)"
   ]
  },
  {
   "cell_type": "code",
   "execution_count": 6,
   "metadata": {
    "collapsed": false
   },
   "outputs": [
    {
     "data": {
      "text/plain": [
       "2.5819888974716112"
      ]
     },
     "execution_count": 6,
     "metadata": {},
     "output_type": "execute_result"
    }
   ],
   "source": [
    "np.std(numbers)"
   ]
  },
  {
   "cell_type": "code",
   "execution_count": 8,
   "metadata": {
    "collapsed": false
   },
   "outputs": [
    {
     "name": "stdout",
     "output_type": "stream",
     "text": [
      "[ 1.  4.  5.  8.]\n",
      "\n",
      "[[ 1.  2.  3.]\n",
      " [ 4.  5.  6.]]\n",
      "Next.........\n"
     ]
    }
   ],
   "source": [
    "array = np.array([1,4,5,8], float)\n",
    "print array\n",
    "print \"\"\n",
    "array = np.array([[1,2,3],[4,5,6,]], float)\n",
    "print array\n",
    "print \"Next.........\""
   ]
  },
  {
   "cell_type": "code",
   "execution_count": 10,
   "metadata": {
    "collapsed": false
   },
   "outputs": [
    {
     "name": "stdout",
     "output_type": "stream",
     "text": [
      "[[ 1.  2.  3.]\n",
      " [ 4.  5.  6.]]\n",
      "\n",
      "5.0\n",
      "\n",
      "[ 4.  5.  6.]\n",
      "\n",
      "[ 3.  6.]\n"
     ]
    }
   ],
   "source": [
    "two_D_array = np.array([[1, 2, 3], [4, 5, 6]], float)\n",
    "print two_D_array\n",
    "print \"\"\n",
    "print two_D_array[1][1]\n",
    "print \"\"\n",
    "print two_D_array[1, :]\n",
    "print \"\"\n",
    "print two_D_array[:, 2]"
   ]
  },
  {
   "cell_type": "code",
   "execution_count": 11,
   "metadata": {
    "collapsed": false
   },
   "outputs": [
    {
     "name": "stdout",
     "output_type": "stream",
     "text": [
      "[ 6.  4.  9.]\n",
      "\n",
      "[-4.  0. -3.]\n",
      "\n",
      "[  5.   4.  18.]\n"
     ]
    }
   ],
   "source": [
    "array_1 = np.array([1, 2, 3], float)\n",
    "array_2 = np.array([5, 2, 6], float)\n",
    "print array_1 + array_2\n",
    "print \"\"\n",
    "print array_1 - array_2\n",
    "print \"\"\n",
    "print array_1 * array_2"
   ]
  },
  {
   "cell_type": "code",
   "execution_count": 12,
   "metadata": {
    "collapsed": false
   },
   "outputs": [
    {
     "name": "stdout",
     "output_type": "stream",
     "text": [
      "[[  6.   8.]\n",
      " [ 10.  12.]]\n",
      "\n",
      "[[-4. -4.]\n",
      " [-4. -4.]]\n",
      "\n",
      "[[  5.  12.]\n",
      " [ 21.  32.]]\n"
     ]
    }
   ],
   "source": [
    "array_1 = np.array([[1, 2], [3, 4]], float)\n",
    "array_2 = np.array([[5, 6], [7, 8]], float)\n",
    "print array_1 + array_2\n",
    "print \"\"\n",
    "print array_1 - array_2\n",
    "print \"\"\n",
    "print array_1 * array_2"
   ]
  },
  {
   "cell_type": "code",
   "execution_count": 13,
   "metadata": {
    "collapsed": false
   },
   "outputs": [
    {
     "name": "stdout",
     "output_type": "stream",
     "text": [
      "2.0\n",
      "7.0\n",
      "\n",
      "[ 44.]\n"
     ]
    }
   ],
   "source": [
    "array_1 = np.array([1, 2, 3], float)\n",
    "array_2 = np.array([[6], [7], [8]], float)\n",
    "print np.mean(array_1)\n",
    "print np.mean(array_2)\n",
    "print \"\"\n",
    "print np.dot(array_1, array_2)"
   ]
  }
 ],
 "metadata": {
  "kernelspec": {
   "display_name": "Python 2",
   "language": "python",
   "name": "python2"
  },
  "language_info": {
   "codemirror_mode": {
    "name": "ipython",
    "version": 2
   },
   "file_extension": ".py",
   "mimetype": "text/x-python",
   "name": "python",
   "nbconvert_exporter": "python",
   "pygments_lexer": "ipython2",
   "version": "2.7.11"
  }
 },
 "nbformat": 4,
 "nbformat_minor": 0
}
