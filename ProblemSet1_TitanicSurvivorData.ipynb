{
 "cells": [
  {
   "cell_type": "code",
   "execution_count": 2,
   "metadata": {
    "collapsed": false
   },
   "outputs": [],
   "source": [
    "import numpy\n",
    "import pandas\n",
    "import statsmodels.api as sm\n",
    "\n",
    "def simple_heuristic(file_path):\n",
    "    '''\n",
    "    We would like for you to take your knowledge and intuition about the Titanic\n",
    "    and its passengers' attributes to predict whether or not the passengers survived\n",
    "    or perished. You can read more about the Titanic and specifics about this dataset at:\n",
    "    http://en.wikipedia.org/wiki/RMS_Titanic\n",
    "    http://www.kaggle.com/c/titanic-gettingStarted\n",
    "        \n",
    "    In this exercise and the following ones, you are given a list of Titantic passengers\n",
    "    and their associated information. More information about the data can be seen at the \n",
    "    link below:\n",
    "    http://www.kaggle.com/c/titanic-gettingStarted/data. \n",
    "\n",
    "    For this exercise, you need to write a simple heuristic that will use\n",
    "    the passengers' gender to predict if that person survived the Titanic disaster.\n",
    "    \n",
    "    You prediction should be 78% accurate or higher.\n",
    "        \n",
    "    Here's a simple heuristic to start off:\n",
    "       1) If the passenger is female, your heuristic should assume that the\n",
    "       passenger survived.\n",
    "       2) If the passenger is male, you heuristic should\n",
    "       assume that the passenger did not survive.\n",
    "    \n",
    "    You can access the gender of a passenger via passenger['Sex'].\n",
    "    If the passenger is male, passenger['Sex'] will return a string \"male\".\n",
    "    If the passenger is female, passenger['Sex'] will return a string \"female\".\n",
    "\n",
    "    Write your prediction back into the \"predictions\" dictionary. The\n",
    "    key of the dictionary should be the passenger's id (which can be accessed\n",
    "    via passenger[\"PassengerId\"]) and the associated value should be 1 if the\n",
    "    passenger survied or 0 otherwise.\n",
    "\n",
    "    For example, if a passenger is predicted to have survived:\n",
    "    passenger_id = passenger['PassengerId']\n",
    "    predictions[passenger_id] = 1\n",
    "\n",
    "    And if a passenger is predicted to have perished in the disaster:\n",
    "    passenger_id = passenger['PassengerId']\n",
    "    predictions[passenger_id] = 0\n",
    "    \n",
    "    You can also look at the Titantic data that you will be working with\n",
    "    at the link below:\n",
    "    https://www.dropbox.com/s/r5f9aos8p9ri9sa/titanic_data.csv\n",
    "    '''\n",
    "\n",
    "    predictions = {}\n",
    "    df = pandas.read_csv(file_path)\n",
    "    for passenger_index, passenger in df.iterrows():\n",
    "        passenger_id = passenger['PassengerId']\n",
    "             \n",
    "        if passenger['Sex'] == 'male':\n",
    "            predictions[passenger_id] = 0\n",
    "        else:\n",
    "            predictions[passenger_id] = 1\n",
    "              \n",
    "    return predictions\n"
   ]
  },
  {
   "cell_type": "code",
   "execution_count": 5,
   "metadata": {
    "collapsed": false
   },
   "outputs": [
    {
     "name": "stdout",
     "output_type": "stream",
     "text": [
      "{1L: 0, 2L: 1, 3L: 1, 4L: 1, 5L: 0, 6L: 0, 7L: 0, 8L: 0, 9L: 1, 10L: 1, 11L: 1, 12L: 1, 13L: 0, 14L: 0, 15L: 1, 16L: 1, 17L: 0, 18L: 0, 19L: 1, 20L: 1, 21L: 0, 22L: 0, 23L: 1, 24L: 0, 25L: 1, 26L: 1, 27L: 0, 28L: 0, 29L: 1, 30L: 0, 31L: 0, 32L: 1, 33L: 1, 34L: 0, 35L: 0, 36L: 0, 37L: 0, 38L: 0, 39L: 1, 40L: 1, 41L: 1, 42L: 1, 43L: 0, 44L: 1, 45L: 1, 46L: 0, 47L: 0, 48L: 1, 49L: 0, 50L: 1, 51L: 0, 52L: 0, 53L: 1, 54L: 1, 55L: 0, 56L: 0, 57L: 1, 58L: 0, 59L: 1, 60L: 0, 61L: 0, 62L: 1, 63L: 0, 64L: 0, 65L: 0, 66L: 0, 67L: 1, 68L: 0, 69L: 1, 70L: 0, 71L: 0, 72L: 1, 73L: 0, 74L: 0, 75L: 0, 76L: 0, 77L: 0, 78L: 0, 79L: 0, 80L: 1, 81L: 0, 82L: 0, 83L: 1, 84L: 0, 85L: 1, 86L: 1, 87L: 0, 88L: 0, 89L: 1, 90L: 0, 91L: 0, 92L: 0, 93L: 0, 94L: 0, 95L: 0, 96L: 0, 97L: 0, 98L: 0, 99L: 1, 100L: 0, 101L: 1, 102L: 0, 103L: 0, 104L: 0, 105L: 0, 106L: 0, 107L: 1, 108L: 0, 109L: 0, 110L: 1, 111L: 0, 112L: 1, 113L: 0, 114L: 1, 115L: 1, 116L: 0, 117L: 0, 118L: 0, 119L: 0, 120L: 1, 121L: 0, 122L: 0, 123L: 0, 124L: 1, 125L: 0, 126L: 0, 127L: 0, 128L: 0, 129L: 1, 130L: 0, 131L: 0, 132L: 0, 133L: 1, 134L: 1, 135L: 0, 136L: 0, 137L: 1, 138L: 0, 139L: 0, 140L: 0, 141L: 1, 142L: 1, 143L: 1, 144L: 0, 145L: 0, 146L: 0, 147L: 0, 148L: 1, 149L: 0, 150L: 0, 151L: 0, 152L: 1, 153L: 0, 154L: 0, 155L: 0, 156L: 0, 157L: 1, 158L: 0, 159L: 0, 160L: 0, 161L: 0, 162L: 1, 163L: 0, 164L: 0, 165L: 0, 166L: 0, 167L: 1, 168L: 1, 169L: 0, 170L: 0, 171L: 0, 172L: 0, 173L: 1, 174L: 0, 175L: 0, 176L: 0, 177L: 0, 178L: 1, 179L: 0, 180L: 0, 181L: 1, 182L: 0, 183L: 0, 184L: 0, 185L: 1, 186L: 0, 187L: 1, 188L: 0, 189L: 0, 190L: 0, 191L: 1, 192L: 0, 193L: 1, 194L: 0, 195L: 1, 196L: 1, 197L: 0, 198L: 0, 199L: 1, 200L: 1, 201L: 0, 202L: 0, 203L: 0, 204L: 0, 205L: 0, 206L: 1, 207L: 0, 208L: 0, 209L: 1, 210L: 0, 211L: 0, 212L: 1, 213L: 0, 214L: 0, 215L: 0, 216L: 1, 217L: 1, 218L: 0, 219L: 1, 220L: 0, 221L: 0, 222L: 0, 223L: 0, 224L: 0, 225L: 0, 226L: 0, 227L: 0, 228L: 0, 229L: 0, 230L: 1, 231L: 1, 232L: 0, 233L: 0, 234L: 1, 235L: 0, 236L: 1, 237L: 0, 238L: 1, 239L: 0, 240L: 0, 241L: 1, 242L: 1, 243L: 0, 244L: 0, 245L: 0, 246L: 0, 247L: 1, 248L: 1, 249L: 0, 250L: 0, 251L: 0, 252L: 1, 253L: 0, 254L: 0, 255L: 1, 256L: 1, 257L: 1, 258L: 1, 259L: 1, 260L: 1, 261L: 0, 262L: 0, 263L: 0, 264L: 0, 265L: 1, 266L: 0, 267L: 0, 268L: 0, 269L: 1, 270L: 1, 271L: 0, 272L: 0, 273L: 1, 274L: 0, 275L: 1, 276L: 1, 277L: 1, 278L: 0, 279L: 0, 280L: 1, 281L: 0, 282L: 0, 283L: 0, 284L: 0, 285L: 0, 286L: 0, 287L: 0, 288L: 0, 289L: 0, 290L: 1, 291L: 1, 292L: 1, 293L: 0, 294L: 1, 295L: 0, 296L: 0, 297L: 0, 298L: 1, 299L: 0, 300L: 1, 301L: 1, 302L: 0, 303L: 0, 304L: 1, 305L: 0, 306L: 0, 307L: 1, 308L: 1, 309L: 0, 310L: 1, 311L: 1, 312L: 1, 313L: 1, 314L: 0, 315L: 0, 316L: 1, 317L: 1, 318L: 0, 319L: 1, 320L: 1, 321L: 0, 322L: 0, 323L: 1, 324L: 1, 325L: 0, 326L: 1, 327L: 0, 328L: 1, 329L: 1, 330L: 1, 331L: 1, 332L: 0, 333L: 0, 334L: 0, 335L: 1, 336L: 0, 337L: 0, 338L: 1, 339L: 0, 340L: 0, 341L: 0, 342L: 1, 343L: 0, 344L: 0, 345L: 0, 346L: 1, 347L: 1, 348L: 1, 349L: 0, 350L: 0, 351L: 0, 352L: 0, 353L: 0, 354L: 0, 355L: 0, 356L: 0, 357L: 1, 358L: 1, 359L: 1, 360L: 1, 361L: 0, 362L: 0, 363L: 1, 364L: 0, 365L: 0, 366L: 0, 367L: 1, 368L: 1, 369L: 1, 370L: 1, 371L: 0, 372L: 0, 373L: 0, 374L: 0, 375L: 1, 376L: 1, 377L: 1, 378L: 0, 379L: 0, 380L: 0, 381L: 1, 382L: 1, 383L: 0, 384L: 1, 385L: 0, 386L: 0, 387L: 0, 388L: 1, 389L: 0, 390L: 1, 391L: 0, 392L: 0, 393L: 0, 394L: 1, 395L: 1, 396L: 0, 397L: 1, 398L: 0, 399L: 0, 400L: 1, 401L: 0, 402L: 0, 403L: 1, 404L: 0, 405L: 1, 406L: 0, 407L: 0, 408L: 0, 409L: 0, 410L: 1, 411L: 0, 412L: 0, 413L: 1, 414L: 0, 415L: 0, 416L: 1, 417L: 1, 418L: 1, 419L: 0, 420L: 1, 421L: 0, 422L: 0, 423L: 0, 424L: 1, 425L: 0, 426L: 0, 427L: 1, 428L: 1, 429L: 0, 430L: 0, 431L: 0, 432L: 1, 433L: 1, 434L: 0, 435L: 0, 436L: 1, 437L: 1, 438L: 1, 439L: 0, 440L: 0, 441L: 1, 442L: 0, 443L: 0, 444L: 1, 445L: 0, 446L: 0, 447L: 1, 448L: 0, 449L: 1, 450L: 0, 451L: 0, 452L: 0, 453L: 0, 454L: 0, 455L: 0, 456L: 0, 457L: 0, 458L: 1, 459L: 1, 460L: 0, 461L: 0, 462L: 0, 463L: 0, 464L: 0, 465L: 0, 466L: 0, 467L: 0, 468L: 0, 469L: 0, 470L: 1, 471L: 0, 472L: 0, 473L: 1, 474L: 1, 475L: 1, 476L: 0, 477L: 0, 478L: 0, 479L: 0, 480L: 1, 481L: 0, 482L: 0, 483L: 0, 484L: 1, 485L: 0, 486L: 1, 487L: 1, 488L: 0, 489L: 0, 490L: 0, 491L: 0, 492L: 0, 493L: 0, 494L: 0, 495L: 0, 496L: 0, 497L: 1, 498L: 0, 499L: 1, 500L: 0, 501L: 0, 502L: 1, 503L: 1, 504L: 1, 505L: 1, 506L: 0, 507L: 1, 508L: 0, 509L: 0, 510L: 0, 511L: 0, 512L: 0, 513L: 0, 514L: 1, 515L: 0, 516L: 0, 517L: 1, 518L: 0, 519L: 1, 520L: 0, 521L: 1, 522L: 0, 523L: 0, 524L: 1, 525L: 0, 526L: 0, 527L: 1, 528L: 0, 529L: 0, 530L: 0, 531L: 1, 532L: 0, 533L: 0, 534L: 1, 535L: 1, 536L: 1, 537L: 0, 538L: 1, 539L: 0, 540L: 1, 541L: 1, 542L: 1, 543L: 1, 544L: 0, 545L: 0, 546L: 0, 547L: 1, 548L: 0, 549L: 0, 550L: 0, 551L: 0, 552L: 0, 553L: 0, 554L: 0, 555L: 1, 556L: 0, 557L: 1, 558L: 0, 559L: 1, 560L: 1, 561L: 0, 562L: 0, 563L: 0, 564L: 0, 565L: 1, 566L: 0, 567L: 0, 568L: 1, 569L: 0, 570L: 0, 571L: 0, 572L: 1, 573L: 0, 574L: 1, 575L: 0, 576L: 0, 577L: 1, 578L: 1, 579L: 1, 580L: 0, 581L: 1, 582L: 1, 583L: 0, 584L: 0, 585L: 0, 586L: 1, 587L: 0, 588L: 0, 589L: 0, 590L: 0, 591L: 0, 592L: 1, 593L: 0, 594L: 1, 595L: 0, 596L: 0, 597L: 1, 598L: 0, 599L: 0, 600L: 0, 601L: 1, 602L: 0, 603L: 0, 604L: 0, 605L: 0, 606L: 0, 607L: 0, 608L: 0, 609L: 1, 610L: 1, 611L: 1, 612L: 0, 613L: 1, 614L: 0, 615L: 0, 616L: 1, 617L: 0, 618L: 1, 619L: 1, 620L: 0, 621L: 0, 622L: 0, 623L: 0, 624L: 0, 625L: 0, 626L: 0, 627L: 0, 628L: 1, 629L: 0, 630L: 0, 631L: 0, 632L: 0, 633L: 0, 634L: 0, 635L: 1, 636L: 1, 637L: 0, 638L: 0, 639L: 1, 640L: 0, 641L: 0, 642L: 1, 643L: 1, 644L: 0, 645L: 1, 646L: 0, 647L: 0, 648L: 0, 649L: 0, 650L: 1, 651L: 0, 652L: 1, 653L: 0, 654L: 1, 655L: 1, 656L: 0, 657L: 0, 658L: 1, 659L: 0, 660L: 0, 661L: 0, 662L: 0, 663L: 0, 664L: 0, 665L: 0, 666L: 0, 667L: 0, 668L: 0, 669L: 0, 670L: 1, 671L: 1, 672L: 0, 673L: 0, 674L: 0, 675L: 0, 676L: 0, 677L: 0, 678L: 1, 679L: 1, 680L: 0, 681L: 1, 682L: 0, 683L: 0, 684L: 0, 685L: 0, 686L: 0, 687L: 0, 688L: 0, 689L: 0, 690L: 1, 691L: 0, 692L: 1, 693L: 0, 694L: 0, 695L: 0, 696L: 0, 697L: 0, 698L: 1, 699L: 0, 700L: 0, 701L: 1, 702L: 0, 703L: 1, 704L: 0, 705L: 0, 706L: 0, 707L: 1, 708L: 0, 709L: 1, 710L: 0, 711L: 1, 712L: 0, 713L: 0, 714L: 0, 715L: 0, 716L: 0, 717L: 1, 718L: 1, 719L: 0, 720L: 0, 721L: 1, 722L: 0, 723L: 0, 724L: 0, 725L: 0, 726L: 0, 727L: 1, 728L: 1, 729L: 0, 730L: 1, 731L: 1, 732L: 0, 733L: 0, 734L: 0, 735L: 0, 736L: 0, 737L: 1, 738L: 0, 739L: 0, 740L: 0, 741L: 0, 742L: 0, 743L: 1, 744L: 0, 745L: 0, 746L: 0, 747L: 0, 748L: 1, 749L: 0, 750L: 0, 751L: 1, 752L: 0, 753L: 0, 754L: 0, 755L: 1, 756L: 0, 757L: 0, 758L: 0, 759L: 0, 760L: 1, 761L: 0, 762L: 0, 763L: 0, 764L: 1, 765L: 0, 766L: 1, 767L: 0, 768L: 1, 769L: 0, 770L: 0, 771L: 0, 772L: 0, 773L: 1, 774L: 0, 775L: 1, 776L: 0, 777L: 0, 778L: 1, 779L: 0, 780L: 1, 781L: 1, 782L: 1, 783L: 0, 784L: 0, 785L: 0, 786L: 0, 787L: 1, 788L: 0, 789L: 0, 790L: 0, 791L: 0, 792L: 0, 793L: 1, 794L: 0, 795L: 0, 796L: 0, 797L: 1, 798L: 1, 799L: 0, 800L: 1, 801L: 0, 802L: 1, 803L: 0, 804L: 0, 805L: 0, 806L: 0, 807L: 0, 808L: 1, 809L: 0, 810L: 1, 811L: 0, 812L: 0, 813L: 0, 814L: 1, 815L: 0, 816L: 0, 817L: 1, 818L: 0, 819L: 0, 820L: 0, 821L: 1, 822L: 0, 823L: 0, 824L: 1, 825L: 0, 826L: 0, 827L: 0, 828L: 0, 829L: 0, 830L: 1, 831L: 1, 832L: 0, 833L: 0, 834L: 0, 835L: 0, 836L: 1, 837L: 0, 838L: 0, 839L: 0, 840L: 0, 841L: 0, 842L: 0, 843L: 1, 844L: 0, 845L: 0, 846L: 0, 847L: 0, 848L: 0, 849L: 0, 850L: 1, 851L: 0, 852L: 0, 853L: 1, 854L: 1, 855L: 1, 856L: 1, 857L: 1, 858L: 0, 859L: 1, 860L: 0, 861L: 0, 862L: 0, 863L: 1, 864L: 1, 865L: 0, 866L: 1, 867L: 1, 868L: 0, 869L: 0, 870L: 0, 871L: 0, 872L: 1, 873L: 0, 874L: 0, 875L: 1, 876L: 1, 877L: 0, 878L: 0, 879L: 0, 880L: 1, 881L: 1, 882L: 0, 883L: 1, 884L: 0, 885L: 0, 886L: 1, 887L: 0, 888L: 1, 889L: 1, 890L: 0, 891L: 0}\n"
     ]
    }
   ],
   "source": [
    "print simple_heuristic('C:\\DataScience\\DataSets\\Titanic_from_Kaggle\\sample_train.csv')"
   ]
  },
  {
   "cell_type": "code",
   "execution_count": 6,
   "metadata": {
    "collapsed": true
   },
   "outputs": [],
   "source": [
    "def complex_heuristic(file_path):\n",
    "    '''\n",
    "    You are given a list of Titantic passengers and their associated\n",
    "    information. More information about the data can be seen at the link below:\n",
    "    http://www.kaggle.com/c/titanic-gettingStarted/data\n",
    "\n",
    "    For this exercise, you need to write a more sophisticated algorithm\n",
    "    that will use the passengers' gender and their socioeconomical class and age \n",
    "    to predict if they survived the Titanic diaster. \n",
    "    \n",
    "    You prediction should be 79% accurate or higher.\n",
    "    \n",
    "    Here's the algorithm, predict the passenger survived if:\n",
    "    1) If the passenger is female or\n",
    "    2) if his/her socioeconomic status is high AND if the passenger is under 18\n",
    "    \n",
    "    Otherwise, your algorithm should predict that the passenger perished in the disaster.\n",
    "    \n",
    "    Or more specifically in terms of coding:\n",
    "    female or (high status and under 18)\n",
    "    \n",
    "    You can access the gender of a passenger via passenger['Sex'].\n",
    "    If the passenger is male, passenger['Sex'] will return a string \"male\".\n",
    "    If the passenger is female, passenger['Sex'] will return a string \"female\".\n",
    "    \n",
    "    You can access the socioeconomic status of a passenger via passenger['Pclass']:\n",
    "    High socioeconomic status -- passenger['Pclass'] is 1\n",
    "    Medium socioeconomic status -- passenger['Pclass'] is 2\n",
    "    Low socioeconomic status -- passenger['Pclass'] is 3\n",
    "\n",
    "    You can access the age of a passenger via passenger['Age'].\n",
    "    \n",
    "    Write your prediction back into the \"predictions\" dictionary. The\n",
    "    key of the dictionary should be the Passenger's id (which can be accessed\n",
    "    via passenger[\"PassengerId\"]) and the associated value should be 1 if the\n",
    "    passenger survived or 0 otherwise. \n",
    "\n",
    "    For example, if a passenger is predicted to have survived:\n",
    "    passenger_id = passenger['PassengerId']\n",
    "    predictions[passenger_id] = 1\n",
    "\n",
    "    And if a passenger is predicted to have perished in the disaster:\n",
    "    passenger_id = passenger['PassengerId']\n",
    "    predictions[passenger_id] = 0\n",
    "    \n",
    "    You can also look at the Titantic data that you will be working with\n",
    "    at the link below:\n",
    "    https://www.dropbox.com/s/r5f9aos8p9ri9sa/titanic_data.csv\n",
    "    '''\n",
    "\n",
    "    predictions = {}\n",
    "    df = pandas.read_csv(file_path)\n",
    "    for passenger_index, passenger in df.iterrows():\n",
    "        passenger_id = passenger['PassengerId']\n",
    "             \n",
    "        if passenger['Sex'] == 'female' or (passenger['Pclass'] == 1 and passenger['Age'] < 18):\n",
    "            predictions[passenger_id] = 1\n",
    "        else:\n",
    "            predictions[passenger_id] = 0\n",
    "              \n",
    "    return predictions"
   ]
  },
  {
   "cell_type": "code",
   "execution_count": 7,
   "metadata": {
    "collapsed": false
   },
   "outputs": [
    {
     "name": "stdout",
     "output_type": "stream",
     "text": [
      "{1L: 0, 2L: 1, 3L: 1, 4L: 1, 5L: 0, 6L: 0, 7L: 0, 8L: 0, 9L: 1, 10L: 1, 11L: 1, 12L: 1, 13L: 0, 14L: 0, 15L: 1, 16L: 1, 17L: 0, 18L: 0, 19L: 1, 20L: 1, 21L: 0, 22L: 0, 23L: 1, 24L: 0, 25L: 1, 26L: 1, 27L: 0, 28L: 0, 29L: 1, 30L: 0, 31L: 0, 32L: 1, 33L: 1, 34L: 0, 35L: 0, 36L: 0, 37L: 0, 38L: 0, 39L: 1, 40L: 1, 41L: 1, 42L: 1, 43L: 0, 44L: 1, 45L: 1, 46L: 0, 47L: 0, 48L: 1, 49L: 0, 50L: 1, 51L: 0, 52L: 0, 53L: 1, 54L: 1, 55L: 0, 56L: 0, 57L: 1, 58L: 0, 59L: 1, 60L: 0, 61L: 0, 62L: 1, 63L: 0, 64L: 0, 65L: 0, 66L: 0, 67L: 1, 68L: 0, 69L: 1, 70L: 0, 71L: 0, 72L: 1, 73L: 0, 74L: 0, 75L: 0, 76L: 0, 77L: 0, 78L: 0, 79L: 0, 80L: 1, 81L: 0, 82L: 0, 83L: 1, 84L: 0, 85L: 1, 86L: 1, 87L: 0, 88L: 0, 89L: 1, 90L: 0, 91L: 0, 92L: 0, 93L: 0, 94L: 0, 95L: 0, 96L: 0, 97L: 0, 98L: 0, 99L: 1, 100L: 0, 101L: 1, 102L: 0, 103L: 0, 104L: 0, 105L: 0, 106L: 0, 107L: 1, 108L: 0, 109L: 0, 110L: 1, 111L: 0, 112L: 1, 113L: 0, 114L: 1, 115L: 1, 116L: 0, 117L: 0, 118L: 0, 119L: 0, 120L: 1, 121L: 0, 122L: 0, 123L: 0, 124L: 1, 125L: 0, 126L: 0, 127L: 0, 128L: 0, 129L: 1, 130L: 0, 131L: 0, 132L: 0, 133L: 1, 134L: 1, 135L: 0, 136L: 0, 137L: 1, 138L: 0, 139L: 0, 140L: 0, 141L: 1, 142L: 1, 143L: 1, 144L: 0, 145L: 0, 146L: 0, 147L: 0, 148L: 1, 149L: 0, 150L: 0, 151L: 0, 152L: 1, 153L: 0, 154L: 0, 155L: 0, 156L: 0, 157L: 1, 158L: 0, 159L: 0, 160L: 0, 161L: 0, 162L: 1, 163L: 0, 164L: 0, 165L: 0, 166L: 0, 167L: 1, 168L: 1, 169L: 0, 170L: 0, 171L: 0, 172L: 0, 173L: 1, 174L: 0, 175L: 0, 176L: 0, 177L: 0, 178L: 1, 179L: 0, 180L: 0, 181L: 1, 182L: 0, 183L: 0, 184L: 0, 185L: 1, 186L: 0, 187L: 1, 188L: 0, 189L: 0, 190L: 0, 191L: 1, 192L: 0, 193L: 1, 194L: 0, 195L: 1, 196L: 1, 197L: 0, 198L: 0, 199L: 1, 200L: 1, 201L: 0, 202L: 0, 203L: 0, 204L: 0, 205L: 0, 206L: 1, 207L: 0, 208L: 0, 209L: 1, 210L: 0, 211L: 0, 212L: 1, 213L: 0, 214L: 0, 215L: 0, 216L: 1, 217L: 1, 218L: 0, 219L: 1, 220L: 0, 221L: 0, 222L: 0, 223L: 0, 224L: 0, 225L: 0, 226L: 0, 227L: 0, 228L: 0, 229L: 0, 230L: 1, 231L: 1, 232L: 0, 233L: 0, 234L: 1, 235L: 0, 236L: 1, 237L: 0, 238L: 1, 239L: 0, 240L: 0, 241L: 1, 242L: 1, 243L: 0, 244L: 0, 245L: 0, 246L: 0, 247L: 1, 248L: 1, 249L: 0, 250L: 0, 251L: 0, 252L: 1, 253L: 0, 254L: 0, 255L: 1, 256L: 1, 257L: 1, 258L: 1, 259L: 1, 260L: 1, 261L: 0, 262L: 0, 263L: 0, 264L: 0, 265L: 1, 266L: 0, 267L: 0, 268L: 0, 269L: 1, 270L: 1, 271L: 0, 272L: 0, 273L: 1, 274L: 0, 275L: 1, 276L: 1, 277L: 1, 278L: 0, 279L: 0, 280L: 1, 281L: 0, 282L: 0, 283L: 0, 284L: 0, 285L: 0, 286L: 0, 287L: 0, 288L: 0, 289L: 0, 290L: 1, 291L: 1, 292L: 1, 293L: 0, 294L: 1, 295L: 0, 296L: 0, 297L: 0, 298L: 1, 299L: 0, 300L: 1, 301L: 1, 302L: 0, 303L: 0, 304L: 1, 305L: 0, 306L: 1, 307L: 1, 308L: 1, 309L: 0, 310L: 1, 311L: 1, 312L: 1, 313L: 1, 314L: 0, 315L: 0, 316L: 1, 317L: 1, 318L: 0, 319L: 1, 320L: 1, 321L: 0, 322L: 0, 323L: 1, 324L: 1, 325L: 0, 326L: 1, 327L: 0, 328L: 1, 329L: 1, 330L: 1, 331L: 1, 332L: 0, 333L: 0, 334L: 0, 335L: 1, 336L: 0, 337L: 0, 338L: 1, 339L: 0, 340L: 0, 341L: 0, 342L: 1, 343L: 0, 344L: 0, 345L: 0, 346L: 1, 347L: 1, 348L: 1, 349L: 0, 350L: 0, 351L: 0, 352L: 0, 353L: 0, 354L: 0, 355L: 0, 356L: 0, 357L: 1, 358L: 1, 359L: 1, 360L: 1, 361L: 0, 362L: 0, 363L: 1, 364L: 0, 365L: 0, 366L: 0, 367L: 1, 368L: 1, 369L: 1, 370L: 1, 371L: 0, 372L: 0, 373L: 0, 374L: 0, 375L: 1, 376L: 1, 377L: 1, 378L: 0, 379L: 0, 380L: 0, 381L: 1, 382L: 1, 383L: 0, 384L: 1, 385L: 0, 386L: 0, 387L: 0, 388L: 1, 389L: 0, 390L: 1, 391L: 0, 392L: 0, 393L: 0, 394L: 1, 395L: 1, 396L: 0, 397L: 1, 398L: 0, 399L: 0, 400L: 1, 401L: 0, 402L: 0, 403L: 1, 404L: 0, 405L: 1, 406L: 0, 407L: 0, 408L: 0, 409L: 0, 410L: 1, 411L: 0, 412L: 0, 413L: 1, 414L: 0, 415L: 0, 416L: 1, 417L: 1, 418L: 1, 419L: 0, 420L: 1, 421L: 0, 422L: 0, 423L: 0, 424L: 1, 425L: 0, 426L: 0, 427L: 1, 428L: 1, 429L: 0, 430L: 0, 431L: 0, 432L: 1, 433L: 1, 434L: 0, 435L: 0, 436L: 1, 437L: 1, 438L: 1, 439L: 0, 440L: 0, 441L: 1, 442L: 0, 443L: 0, 444L: 1, 445L: 0, 446L: 1, 447L: 1, 448L: 0, 449L: 1, 450L: 0, 451L: 0, 452L: 0, 453L: 0, 454L: 0, 455L: 0, 456L: 0, 457L: 0, 458L: 1, 459L: 1, 460L: 0, 461L: 0, 462L: 0, 463L: 0, 464L: 0, 465L: 0, 466L: 0, 467L: 0, 468L: 0, 469L: 0, 470L: 1, 471L: 0, 472L: 0, 473L: 1, 474L: 1, 475L: 1, 476L: 0, 477L: 0, 478L: 0, 479L: 0, 480L: 1, 481L: 0, 482L: 0, 483L: 0, 484L: 1, 485L: 0, 486L: 1, 487L: 1, 488L: 0, 489L: 0, 490L: 0, 491L: 0, 492L: 0, 493L: 0, 494L: 0, 495L: 0, 496L: 0, 497L: 1, 498L: 0, 499L: 1, 500L: 0, 501L: 0, 502L: 1, 503L: 1, 504L: 1, 505L: 1, 506L: 0, 507L: 1, 508L: 0, 509L: 0, 510L: 0, 511L: 0, 512L: 0, 513L: 0, 514L: 1, 515L: 0, 516L: 0, 517L: 1, 518L: 0, 519L: 1, 520L: 0, 521L: 1, 522L: 0, 523L: 0, 524L: 1, 525L: 0, 526L: 0, 527L: 1, 528L: 0, 529L: 0, 530L: 0, 531L: 1, 532L: 0, 533L: 0, 534L: 1, 535L: 1, 536L: 1, 537L: 0, 538L: 1, 539L: 0, 540L: 1, 541L: 1, 542L: 1, 543L: 1, 544L: 0, 545L: 0, 546L: 0, 547L: 1, 548L: 0, 549L: 0, 550L: 0, 551L: 1, 552L: 0, 553L: 0, 554L: 0, 555L: 1, 556L: 0, 557L: 1, 558L: 0, 559L: 1, 560L: 1, 561L: 0, 562L: 0, 563L: 0, 564L: 0, 565L: 1, 566L: 0, 567L: 0, 568L: 1, 569L: 0, 570L: 0, 571L: 0, 572L: 1, 573L: 0, 574L: 1, 575L: 0, 576L: 0, 577L: 1, 578L: 1, 579L: 1, 580L: 0, 581L: 1, 582L: 1, 583L: 0, 584L: 0, 585L: 0, 586L: 1, 587L: 0, 588L: 0, 589L: 0, 590L: 0, 591L: 0, 592L: 1, 593L: 0, 594L: 1, 595L: 0, 596L: 0, 597L: 1, 598L: 0, 599L: 0, 600L: 0, 601L: 1, 602L: 0, 603L: 0, 604L: 0, 605L: 0, 606L: 0, 607L: 0, 608L: 0, 609L: 1, 610L: 1, 611L: 1, 612L: 0, 613L: 1, 614L: 0, 615L: 0, 616L: 1, 617L: 0, 618L: 1, 619L: 1, 620L: 0, 621L: 0, 622L: 0, 623L: 0, 624L: 0, 625L: 0, 626L: 0, 627L: 0, 628L: 1, 629L: 0, 630L: 0, 631L: 0, 632L: 0, 633L: 0, 634L: 0, 635L: 1, 636L: 1, 637L: 0, 638L: 0, 639L: 1, 640L: 0, 641L: 0, 642L: 1, 643L: 1, 644L: 0, 645L: 1, 646L: 0, 647L: 0, 648L: 0, 649L: 0, 650L: 1, 651L: 0, 652L: 1, 653L: 0, 654L: 1, 655L: 1, 656L: 0, 657L: 0, 658L: 1, 659L: 0, 660L: 0, 661L: 0, 662L: 0, 663L: 0, 664L: 0, 665L: 0, 666L: 0, 667L: 0, 668L: 0, 669L: 0, 670L: 1, 671L: 1, 672L: 0, 673L: 0, 674L: 0, 675L: 0, 676L: 0, 677L: 0, 678L: 1, 679L: 1, 680L: 0, 681L: 1, 682L: 0, 683L: 0, 684L: 0, 685L: 0, 686L: 0, 687L: 0, 688L: 0, 689L: 0, 690L: 1, 691L: 0, 692L: 1, 693L: 0, 694L: 0, 695L: 0, 696L: 0, 697L: 0, 698L: 1, 699L: 0, 700L: 0, 701L: 1, 702L: 0, 703L: 1, 704L: 0, 705L: 0, 706L: 0, 707L: 1, 708L: 0, 709L: 1, 710L: 0, 711L: 1, 712L: 0, 713L: 0, 714L: 0, 715L: 0, 716L: 0, 717L: 1, 718L: 1, 719L: 0, 720L: 0, 721L: 1, 722L: 0, 723L: 0, 724L: 0, 725L: 0, 726L: 0, 727L: 1, 728L: 1, 729L: 0, 730L: 1, 731L: 1, 732L: 0, 733L: 0, 734L: 0, 735L: 0, 736L: 0, 737L: 1, 738L: 0, 739L: 0, 740L: 0, 741L: 0, 742L: 0, 743L: 1, 744L: 0, 745L: 0, 746L: 0, 747L: 0, 748L: 1, 749L: 0, 750L: 0, 751L: 1, 752L: 0, 753L: 0, 754L: 0, 755L: 1, 756L: 0, 757L: 0, 758L: 0, 759L: 0, 760L: 1, 761L: 0, 762L: 0, 763L: 0, 764L: 1, 765L: 0, 766L: 1, 767L: 0, 768L: 1, 769L: 0, 770L: 0, 771L: 0, 772L: 0, 773L: 1, 774L: 0, 775L: 1, 776L: 0, 777L: 0, 778L: 1, 779L: 0, 780L: 1, 781L: 1, 782L: 1, 783L: 0, 784L: 0, 785L: 0, 786L: 0, 787L: 1, 788L: 0, 789L: 0, 790L: 0, 791L: 0, 792L: 0, 793L: 1, 794L: 0, 795L: 0, 796L: 0, 797L: 1, 798L: 1, 799L: 0, 800L: 1, 801L: 0, 802L: 1, 803L: 1, 804L: 0, 805L: 0, 806L: 0, 807L: 0, 808L: 1, 809L: 0, 810L: 1, 811L: 0, 812L: 0, 813L: 0, 814L: 1, 815L: 0, 816L: 0, 817L: 1, 818L: 0, 819L: 0, 820L: 0, 821L: 1, 822L: 0, 823L: 0, 824L: 1, 825L: 0, 826L: 0, 827L: 0, 828L: 0, 829L: 0, 830L: 1, 831L: 1, 832L: 0, 833L: 0, 834L: 0, 835L: 0, 836L: 1, 837L: 0, 838L: 0, 839L: 0, 840L: 0, 841L: 0, 842L: 0, 843L: 1, 844L: 0, 845L: 0, 846L: 0, 847L: 0, 848L: 0, 849L: 0, 850L: 1, 851L: 0, 852L: 0, 853L: 1, 854L: 1, 855L: 1, 856L: 1, 857L: 1, 858L: 0, 859L: 1, 860L: 0, 861L: 0, 862L: 0, 863L: 1, 864L: 1, 865L: 0, 866L: 1, 867L: 1, 868L: 0, 869L: 0, 870L: 0, 871L: 0, 872L: 1, 873L: 0, 874L: 0, 875L: 1, 876L: 1, 877L: 0, 878L: 0, 879L: 0, 880L: 1, 881L: 1, 882L: 0, 883L: 1, 884L: 0, 885L: 0, 886L: 1, 887L: 0, 888L: 1, 889L: 1, 890L: 0, 891L: 0}\n"
     ]
    }
   ],
   "source": [
    "print complex_heuristic('C:\\DataScience\\DataSets\\Titanic_from_Kaggle\\sample_train.csv')"
   ]
  },
  {
   "cell_type": "code",
   "execution_count": 11,
   "metadata": {
    "collapsed": false
   },
   "outputs": [],
   "source": [
    "def custom_heuristic(file_path):\n",
    "    '''\n",
    "    You are given a list of Titantic passengers and their associated\n",
    "    information. More information about the data can be seen at the link below:\n",
    "    http://www.kaggle.com/c/titanic-gettingStarted/data\n",
    "\n",
    "    For this exercise, you need to write a custom heuristic that will take\n",
    "    in some combination of the passenger's attributes and predict if the passenger\n",
    "    survived the Titanic diaster.\n",
    "\n",
    "    Can your custom heuristic beat 80% accuracy?\n",
    "    \n",
    "    The available attributes are:\n",
    "    Pclass          Passenger Class\n",
    "                    (1 = 1st; 2 = 2nd; 3 = 3rd)\n",
    "    Name            Name\n",
    "    Sex             Sex\n",
    "    Age             Age\n",
    "    SibSp           Number of Siblings/Spouses Aboard\n",
    "    Parch           Number of Parents/Children Aboard\n",
    "    Ticket          Ticket Number\n",
    "    Fare            Passenger Fare\n",
    "    Cabin           Cabin\n",
    "    Embarked        Port of Embarkation\n",
    "                    (C = Cherbourg; Q = Queenstown; S = Southampton)\n",
    "                    \n",
    "    SPECIAL NOTES:\n",
    "    Pclass is a proxy for socioeconomic status (SES)\n",
    "    1st ~ Upper; 2nd ~ Middle; 3rd ~ Lower\n",
    "\n",
    "    Age is in years; fractional if age less than one\n",
    "    If the age is estimated, it is in the form xx.5\n",
    "\n",
    "    With respect to the family relation variables (i.e. SibSp and Parch)\n",
    "    some relations were ignored. The following are the definitions used\n",
    "    for SibSp and Parch.\n",
    "\n",
    "    Sibling:  brother, sister, stepbrother, or stepsister of passenger aboard Titanic\n",
    "    Spouse:   husband or wife of passenger aboard Titanic (mistresses and fiancees ignored)\n",
    "    Parent:   mother or father of passenger aboard Titanic\n",
    "    Child:    son, daughter, stepson, or stepdaughter of passenger aboard Titanic\n",
    "    \n",
    "    Write your prediction back into the \"predictions\" dictionary. The\n",
    "    key of the dictionary should be the passenger's id (which can be accessed\n",
    "    via passenger[\"PassengerId\"]) and the associating value should be 1 if the\n",
    "    passenger survvied or 0 otherwise. \n",
    "\n",
    "    For example, if a passenger is predicted to have survived:\n",
    "    passenger_id = passenger['PassengerId']\n",
    "    predictions[passenger_id] = 1\n",
    "\n",
    "    And if a passenger is predicted to have perished in the disaster:\n",
    "    passenger_id = passenger['PassengerId']\n",
    "    predictions[passenger_id] = 0\n",
    "    \n",
    "    You can also look at the Titantic data that you will be working with\n",
    "    at the link below:\n",
    "    https://www.dropbox.com/s/r5f9aos8p9ri9sa/titanic_data.csv\n",
    "    '''\n",
    "\n",
    "    predictions = {}\n",
    "    df = pandas.read_csv(file_path)\n",
    "    for passenger_index, passenger in df.iterrows():\n",
    "        passenger_id = passenger['PassengerId']\n",
    "             \n",
    "        if passenger['Sex'] == 'female' or (passenger['Pclass'] == 1 and passenger['Age'] < 18):\n",
    "            predictions[passenger_id] = 1\n",
    "            continue\n",
    "        else:\n",
    "            predictions[passenger_id] = 0\n",
    "        \n",
    "        if passenger['Age'] < 16 and (passenger['Pclass'] == 1 or passenger['Pclass'] == 2):\n",
    "            predictions[passenger_id] = 1\n",
    "    return predictions"
   ]
  },
  {
   "cell_type": "code",
   "execution_count": 12,
   "metadata": {
    "collapsed": false
   },
   "outputs": [
    {
     "name": "stdout",
     "output_type": "stream",
     "text": [
      "{1L: 0, 2L: 1, 3L: 1, 4L: 1, 5L: 0, 6L: 0, 7L: 0, 8L: 0, 9L: 1, 10L: 1, 11L: 1, 12L: 1, 13L: 0, 14L: 0, 15L: 1, 16L: 1, 17L: 0, 18L: 0, 19L: 1, 20L: 1, 21L: 0, 22L: 0, 23L: 1, 24L: 0, 25L: 1, 26L: 1, 27L: 0, 28L: 0, 29L: 1, 30L: 0, 31L: 0, 32L: 1, 33L: 1, 34L: 0, 35L: 0, 36L: 0, 37L: 0, 38L: 0, 39L: 1, 40L: 1, 41L: 1, 42L: 1, 43L: 0, 44L: 1, 45L: 1, 46L: 0, 47L: 0, 48L: 1, 49L: 0, 50L: 1, 51L: 0, 52L: 0, 53L: 1, 54L: 1, 55L: 0, 56L: 0, 57L: 1, 58L: 0, 59L: 1, 60L: 0, 61L: 0, 62L: 1, 63L: 0, 64L: 0, 65L: 0, 66L: 0, 67L: 1, 68L: 0, 69L: 1, 70L: 0, 71L: 0, 72L: 1, 73L: 0, 74L: 0, 75L: 0, 76L: 0, 77L: 0, 78L: 0, 79L: 1, 80L: 1, 81L: 0, 82L: 0, 83L: 1, 84L: 0, 85L: 1, 86L: 1, 87L: 0, 88L: 0, 89L: 1, 90L: 0, 91L: 0, 92L: 0, 93L: 0, 94L: 0, 95L: 0, 96L: 0, 97L: 0, 98L: 0, 99L: 1, 100L: 0, 101L: 1, 102L: 0, 103L: 0, 104L: 0, 105L: 0, 106L: 0, 107L: 1, 108L: 0, 109L: 0, 110L: 1, 111L: 0, 112L: 1, 113L: 0, 114L: 1, 115L: 1, 116L: 0, 117L: 0, 118L: 0, 119L: 0, 120L: 1, 121L: 0, 122L: 0, 123L: 0, 124L: 1, 125L: 0, 126L: 0, 127L: 0, 128L: 0, 129L: 1, 130L: 0, 131L: 0, 132L: 0, 133L: 1, 134L: 1, 135L: 0, 136L: 0, 137L: 1, 138L: 0, 139L: 0, 140L: 0, 141L: 1, 142L: 1, 143L: 1, 144L: 0, 145L: 0, 146L: 0, 147L: 0, 148L: 1, 149L: 0, 150L: 0, 151L: 0, 152L: 1, 153L: 0, 154L: 0, 155L: 0, 156L: 0, 157L: 1, 158L: 0, 159L: 0, 160L: 0, 161L: 0, 162L: 1, 163L: 0, 164L: 0, 165L: 0, 166L: 0, 167L: 1, 168L: 1, 169L: 0, 170L: 0, 171L: 0, 172L: 0, 173L: 1, 174L: 0, 175L: 0, 176L: 0, 177L: 0, 178L: 1, 179L: 0, 180L: 0, 181L: 1, 182L: 0, 183L: 0, 184L: 1, 185L: 1, 186L: 0, 187L: 1, 188L: 0, 189L: 0, 190L: 0, 191L: 1, 192L: 0, 193L: 1, 194L: 1, 195L: 1, 196L: 1, 197L: 0, 198L: 0, 199L: 1, 200L: 1, 201L: 0, 202L: 0, 203L: 0, 204L: 0, 205L: 0, 206L: 1, 207L: 0, 208L: 0, 209L: 1, 210L: 0, 211L: 0, 212L: 1, 213L: 0, 214L: 0, 215L: 0, 216L: 1, 217L: 1, 218L: 0, 219L: 1, 220L: 0, 221L: 0, 222L: 0, 223L: 0, 224L: 0, 225L: 0, 226L: 0, 227L: 0, 228L: 0, 229L: 0, 230L: 1, 231L: 1, 232L: 0, 233L: 0, 234L: 1, 235L: 0, 236L: 1, 237L: 0, 238L: 1, 239L: 0, 240L: 0, 241L: 1, 242L: 1, 243L: 0, 244L: 0, 245L: 0, 246L: 0, 247L: 1, 248L: 1, 249L: 0, 250L: 0, 251L: 0, 252L: 1, 253L: 0, 254L: 0, 255L: 1, 256L: 1, 257L: 1, 258L: 1, 259L: 1, 260L: 1, 261L: 0, 262L: 0, 263L: 0, 264L: 0, 265L: 1, 266L: 0, 267L: 0, 268L: 0, 269L: 1, 270L: 1, 271L: 0, 272L: 0, 273L: 1, 274L: 0, 275L: 1, 276L: 1, 277L: 1, 278L: 0, 279L: 0, 280L: 1, 281L: 0, 282L: 0, 283L: 0, 284L: 0, 285L: 0, 286L: 0, 287L: 0, 288L: 0, 289L: 0, 290L: 1, 291L: 1, 292L: 1, 293L: 0, 294L: 1, 295L: 0, 296L: 0, 297L: 0, 298L: 1, 299L: 0, 300L: 1, 301L: 1, 302L: 0, 303L: 0, 304L: 1, 305L: 0, 306L: 1, 307L: 1, 308L: 1, 309L: 0, 310L: 1, 311L: 1, 312L: 1, 313L: 1, 314L: 0, 315L: 0, 316L: 1, 317L: 1, 318L: 0, 319L: 1, 320L: 1, 321L: 0, 322L: 0, 323L: 1, 324L: 1, 325L: 0, 326L: 1, 327L: 0, 328L: 1, 329L: 1, 330L: 1, 331L: 1, 332L: 0, 333L: 0, 334L: 0, 335L: 1, 336L: 0, 337L: 0, 338L: 1, 339L: 0, 340L: 0, 341L: 1, 342L: 1, 343L: 0, 344L: 0, 345L: 0, 346L: 1, 347L: 1, 348L: 1, 349L: 0, 350L: 0, 351L: 0, 352L: 0, 353L: 0, 354L: 0, 355L: 0, 356L: 0, 357L: 1, 358L: 1, 359L: 1, 360L: 1, 361L: 0, 362L: 0, 363L: 1, 364L: 0, 365L: 0, 366L: 0, 367L: 1, 368L: 1, 369L: 1, 370L: 1, 371L: 0, 372L: 0, 373L: 0, 374L: 0, 375L: 1, 376L: 1, 377L: 1, 378L: 0, 379L: 0, 380L: 0, 381L: 1, 382L: 1, 383L: 0, 384L: 1, 385L: 0, 386L: 0, 387L: 0, 388L: 1, 389L: 0, 390L: 1, 391L: 0, 392L: 0, 393L: 0, 394L: 1, 395L: 1, 396L: 0, 397L: 1, 398L: 0, 399L: 0, 400L: 1, 401L: 0, 402L: 0, 403L: 1, 404L: 0, 405L: 1, 406L: 0, 407L: 0, 408L: 1, 409L: 0, 410L: 1, 411L: 0, 412L: 0, 413L: 1, 414L: 0, 415L: 0, 416L: 1, 417L: 1, 418L: 1, 419L: 0, 420L: 1, 421L: 0, 422L: 0, 423L: 0, 424L: 1, 425L: 0, 426L: 0, 427L: 1, 428L: 1, 429L: 0, 430L: 0, 431L: 0, 432L: 1, 433L: 1, 434L: 0, 435L: 0, 436L: 1, 437L: 1, 438L: 1, 439L: 0, 440L: 0, 441L: 1, 442L: 0, 443L: 0, 444L: 1, 445L: 0, 446L: 1, 447L: 1, 448L: 0, 449L: 1, 450L: 0, 451L: 0, 452L: 0, 453L: 0, 454L: 0, 455L: 0, 456L: 0, 457L: 0, 458L: 1, 459L: 1, 460L: 0, 461L: 0, 462L: 0, 463L: 0, 464L: 0, 465L: 0, 466L: 0, 467L: 0, 468L: 0, 469L: 0, 470L: 1, 471L: 0, 472L: 0, 473L: 1, 474L: 1, 475L: 1, 476L: 0, 477L: 0, 478L: 0, 479L: 0, 480L: 1, 481L: 0, 482L: 0, 483L: 0, 484L: 1, 485L: 0, 486L: 1, 487L: 1, 488L: 0, 489L: 0, 490L: 0, 491L: 0, 492L: 0, 493L: 0, 494L: 0, 495L: 0, 496L: 0, 497L: 1, 498L: 0, 499L: 1, 500L: 0, 501L: 0, 502L: 1, 503L: 1, 504L: 1, 505L: 1, 506L: 0, 507L: 1, 508L: 0, 509L: 0, 510L: 0, 511L: 0, 512L: 0, 513L: 0, 514L: 1, 515L: 0, 516L: 0, 517L: 1, 518L: 0, 519L: 1, 520L: 0, 521L: 1, 522L: 0, 523L: 0, 524L: 1, 525L: 0, 526L: 0, 527L: 1, 528L: 0, 529L: 0, 530L: 0, 531L: 1, 532L: 0, 533L: 0, 534L: 1, 535L: 1, 536L: 1, 537L: 0, 538L: 1, 539L: 0, 540L: 1, 541L: 1, 542L: 1, 543L: 1, 544L: 0, 545L: 0, 546L: 0, 547L: 1, 548L: 0, 549L: 0, 550L: 1, 551L: 1, 552L: 0, 553L: 0, 554L: 0, 555L: 1, 556L: 0, 557L: 1, 558L: 0, 559L: 1, 560L: 1, 561L: 0, 562L: 0, 563L: 0, 564L: 0, 565L: 1, 566L: 0, 567L: 0, 568L: 1, 569L: 0, 570L: 0, 571L: 0, 572L: 1, 573L: 0, 574L: 1, 575L: 0, 576L: 0, 577L: 1, 578L: 1, 579L: 1, 580L: 0, 581L: 1, 582L: 1, 583L: 0, 584L: 0, 585L: 0, 586L: 1, 587L: 0, 588L: 0, 589L: 0, 590L: 0, 591L: 0, 592L: 1, 593L: 0, 594L: 1, 595L: 0, 596L: 0, 597L: 1, 598L: 0, 599L: 0, 600L: 0, 601L: 1, 602L: 0, 603L: 0, 604L: 0, 605L: 0, 606L: 0, 607L: 0, 608L: 0, 609L: 1, 610L: 1, 611L: 1, 612L: 0, 613L: 1, 614L: 0, 615L: 0, 616L: 1, 617L: 0, 618L: 1, 619L: 1, 620L: 0, 621L: 0, 622L: 0, 623L: 0, 624L: 0, 625L: 0, 626L: 0, 627L: 0, 628L: 1, 629L: 0, 630L: 0, 631L: 0, 632L: 0, 633L: 0, 634L: 0, 635L: 1, 636L: 1, 637L: 0, 638L: 0, 639L: 1, 640L: 0, 641L: 0, 642L: 1, 643L: 1, 644L: 0, 645L: 1, 646L: 0, 647L: 0, 648L: 0, 649L: 0, 650L: 1, 651L: 0, 652L: 1, 653L: 0, 654L: 1, 655L: 1, 656L: 0, 657L: 0, 658L: 1, 659L: 0, 660L: 0, 661L: 0, 662L: 0, 663L: 0, 664L: 0, 665L: 0, 666L: 0, 667L: 0, 668L: 0, 669L: 0, 670L: 1, 671L: 1, 672L: 0, 673L: 0, 674L: 0, 675L: 0, 676L: 0, 677L: 0, 678L: 1, 679L: 1, 680L: 0, 681L: 1, 682L: 0, 683L: 0, 684L: 0, 685L: 0, 686L: 0, 687L: 0, 688L: 0, 689L: 0, 690L: 1, 691L: 0, 692L: 1, 693L: 0, 694L: 0, 695L: 0, 696L: 0, 697L: 0, 698L: 1, 699L: 0, 700L: 0, 701L: 1, 702L: 0, 703L: 1, 704L: 0, 705L: 0, 706L: 0, 707L: 1, 708L: 0, 709L: 1, 710L: 0, 711L: 1, 712L: 0, 713L: 0, 714L: 0, 715L: 0, 716L: 0, 717L: 1, 718L: 1, 719L: 0, 720L: 0, 721L: 1, 722L: 0, 723L: 0, 724L: 0, 725L: 0, 726L: 0, 727L: 1, 728L: 1, 729L: 0, 730L: 1, 731L: 1, 732L: 0, 733L: 0, 734L: 0, 735L: 0, 736L: 0, 737L: 1, 738L: 0, 739L: 0, 740L: 0, 741L: 0, 742L: 0, 743L: 1, 744L: 0, 745L: 0, 746L: 0, 747L: 0, 748L: 1, 749L: 0, 750L: 0, 751L: 1, 752L: 0, 753L: 0, 754L: 0, 755L: 1, 756L: 1, 757L: 0, 758L: 0, 759L: 0, 760L: 1, 761L: 0, 762L: 0, 763L: 0, 764L: 1, 765L: 0, 766L: 1, 767L: 0, 768L: 1, 769L: 0, 770L: 0, 771L: 0, 772L: 0, 773L: 1, 774L: 0, 775L: 1, 776L: 0, 777L: 0, 778L: 1, 779L: 0, 780L: 1, 781L: 1, 782L: 1, 783L: 0, 784L: 0, 785L: 0, 786L: 0, 787L: 1, 788L: 0, 789L: 0, 790L: 0, 791L: 0, 792L: 0, 793L: 1, 794L: 0, 795L: 0, 796L: 0, 797L: 1, 798L: 1, 799L: 0, 800L: 1, 801L: 0, 802L: 1, 803L: 1, 804L: 0, 805L: 0, 806L: 0, 807L: 0, 808L: 1, 809L: 0, 810L: 1, 811L: 0, 812L: 0, 813L: 0, 814L: 1, 815L: 0, 816L: 0, 817L: 1, 818L: 0, 819L: 0, 820L: 0, 821L: 1, 822L: 0, 823L: 0, 824L: 1, 825L: 0, 826L: 0, 827L: 0, 828L: 1, 829L: 0, 830L: 1, 831L: 1, 832L: 1, 833L: 0, 834L: 0, 835L: 0, 836L: 1, 837L: 0, 838L: 0, 839L: 0, 840L: 0, 841L: 0, 842L: 0, 843L: 1, 844L: 0, 845L: 0, 846L: 0, 847L: 0, 848L: 0, 849L: 0, 850L: 1, 851L: 0, 852L: 0, 853L: 1, 854L: 1, 855L: 1, 856L: 1, 857L: 1, 858L: 0, 859L: 1, 860L: 0, 861L: 0, 862L: 0, 863L: 1, 864L: 1, 865L: 0, 866L: 1, 867L: 1, 868L: 0, 869L: 0, 870L: 0, 871L: 0, 872L: 1, 873L: 0, 874L: 0, 875L: 1, 876L: 1, 877L: 0, 878L: 0, 879L: 0, 880L: 1, 881L: 1, 882L: 0, 883L: 1, 884L: 0, 885L: 0, 886L: 1, 887L: 0, 888L: 1, 889L: 1, 890L: 0, 891L: 0}\n"
     ]
    }
   ],
   "source": [
    "print custom_heuristic('C:\\DataScience\\DataSets\\Titanic_from_Kaggle\\sample_train.csv')"
   ]
  }
 ],
 "metadata": {
  "kernelspec": {
   "display_name": "Python 2",
   "language": "python",
   "name": "python2"
  },
  "language_info": {
   "codemirror_mode": {
    "name": "ipython",
    "version": 2
   },
   "file_extension": ".py",
   "mimetype": "text/x-python",
   "name": "python",
   "nbconvert_exporter": "python",
   "pygments_lexer": "ipython2",
   "version": "2.7.11"
  }
 },
 "nbformat": 4,
 "nbformat_minor": 0
}
