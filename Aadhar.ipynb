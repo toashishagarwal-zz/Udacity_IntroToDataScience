{
 "cells": [
  {
   "cell_type": "code",
   "execution_count": 1,
   "metadata": {
    "collapsed": false
   },
   "outputs": [
    {
     "ename": "ImportError",
     "evalue": "No module named pandasql",
     "output_type": "error",
     "traceback": [
      "\u001b[1;31m---------------------------------------------------------------------------\u001b[0m",
      "\u001b[1;31mImportError\u001b[0m                               Traceback (most recent call last)",
      "\u001b[1;32m<ipython-input-1-d4ad8911424d>\u001b[0m in \u001b[0;36m<module>\u001b[1;34m()\u001b[0m\n\u001b[0;32m      1\u001b[0m \u001b[1;32mimport\u001b[0m \u001b[0mpandas\u001b[0m\u001b[1;33m\u001b[0m\u001b[0m\n\u001b[1;32m----> 2\u001b[1;33m \u001b[1;32mimport\u001b[0m \u001b[0mpandasql\u001b[0m\u001b[1;33m\u001b[0m\u001b[0m\n\u001b[0m\u001b[0;32m      3\u001b[0m \u001b[1;33m\u001b[0m\u001b[0m\n\u001b[0;32m      4\u001b[0m \u001b[1;32mdef\u001b[0m \u001b[0mselect_first_50\u001b[0m\u001b[1;33m(\u001b[0m\u001b[0mfilename\u001b[0m\u001b[1;33m)\u001b[0m\u001b[1;33m:\u001b[0m\u001b[1;33m\u001b[0m\u001b[0m\n\u001b[0;32m      5\u001b[0m     \u001b[1;31m# Read in our aadhaar_data csv to a pandas dataframe.  Afterwards, we rename the columns\u001b[0m\u001b[1;33m\u001b[0m\u001b[1;33m\u001b[0m\u001b[0m\n",
      "\u001b[1;31mImportError\u001b[0m: No module named pandasql"
     ]
    }
   ],
   "source": [
    "import pandas\n",
    "import pandasql\n",
    "\n",
    "def select_first_50(filename):\n",
    "    # Read in our aadhaar_data csv to a pandas dataframe.  Afterwards, we rename the columns\n",
    "    # by replacing spaces with underscores and setting all characters to lowercase, so the\n",
    "    # column names more closely resemble columns names one might find in a table.\n",
    "    aadhaar_data = pandas.read_csv(filename)\n",
    "    aadhaar_data.rename(columns = lambda x: x.replace(' ', '_').lower(), inplace=True)\n",
    "\n",
    "    # Select out the first 50 values for \"registrar\" and \"enrolment_agency\"\n",
    "    # in the aadhaar_data table using SQL syntax. \n",
    "    #\n",
    "    # Note that \"enrolment_agency\" is spelled with one l. Also, the order\n",
    "    # of the select does matter. Make sure you select registrar then enrolment agency\n",
    "    # in your query.\n",
    "    #\n",
    "    # You can download a copy of the aadhaar data that we are passing \n",
    "    # into this exercise below:\n",
    "    # https://www.dropbox.com/s/vn8t4uulbsfmalo/aadhaar_data.csv\n",
    "    q = \"\"\"\n",
    "    select registrar, enrolment_agency from aadhaar_data LIMIT 50\n",
    "    \"\"\"\n",
    "\n",
    "    #Execute your SQL command against the pandas frame\n",
    "    aadhaar_solution = pandasql.sqldf(q.lower(), locals())\n",
    "    return aadhaar_solution    "
   ]
  }
 ],
 "metadata": {
  "kernelspec": {
   "display_name": "Python 2",
   "language": "python",
   "name": "python2"
  },
  "language_info": {
   "codemirror_mode": {
    "name": "ipython",
    "version": 2
   },
   "file_extension": ".py",
   "mimetype": "text/x-python",
   "name": "python",
   "nbconvert_exporter": "python",
   "pygments_lexer": "ipython2",
   "version": "2.7.11"
  }
 },
 "nbformat": 4,
 "nbformat_minor": 0
}
