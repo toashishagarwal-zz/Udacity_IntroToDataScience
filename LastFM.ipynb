{
 "cells": [
  {
   "cell_type": "code",
   "execution_count": 3,
   "metadata": {
    "collapsed": true
   },
   "outputs": [],
   "source": [
    "import json\n",
    "import requests\n",
    "\n",
    "def api_get_request(url):\n",
    "    # In this exercise, you want to call the last.fm API to get a list of the\n",
    "    # top artists in Spain. The grader will supply the URL as an argument to\n",
    "    # the function; you do not need to construct the address or call this\n",
    "    # function in your grader submission.\n",
    "    # \n",
    "    # Once you've done this, return the name of the number 1 top artist in\n",
    "    # Spain. \n",
    "    \n",
    "    data = requests.get(url).text\n",
    "    data = json.loads(data)\n",
    "    name = data['topartists']['artist'][0]['name']\n",
    "    return name # return the top artist in Spain\n"
   ]
  },
  {
   "cell_type": "code",
   "execution_count": 4,
   "metadata": {
    "collapsed": false
   },
   "outputs": [
    {
     "name": "stdout",
     "output_type": "stream",
     "text": [
      "David Bowie\n"
     ]
    }
   ],
   "source": [
    "url = 'http://ws.audioscrobbler.com/2.0/?method=geo.gettopartists&country=spain&limit=1&api_key=2ae6ee6a3aad0fa98d9185bb944c8a5d&format=json'\n",
    "print api_get_request(url)"
   ]
  }
 ],
 "metadata": {
  "kernelspec": {
   "display_name": "Python 2",
   "language": "python",
   "name": "python2"
  },
  "language_info": {
   "codemirror_mode": {
    "name": "ipython",
    "version": 2
   },
   "file_extension": ".py",
   "mimetype": "text/x-python",
   "name": "python",
   "nbconvert_exporter": "python",
   "pygments_lexer": "ipython2",
   "version": "2.7.11"
  }
 },
 "nbformat": 4,
 "nbformat_minor": 0
}
